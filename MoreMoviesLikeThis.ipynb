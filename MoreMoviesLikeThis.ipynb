{
 "cells": [
  {
   "cell_type": "markdown",
   "id": "78dfd488-00d0-4706-809e-d177da2c1042",
   "metadata": {},
   "source": [
    "### Project Name : MoreMoviesLikeThis\n",
    "# Movie Recommendation System"
   ]
  },
  {
   "cell_type": "markdown",
   "id": "16f7a201-4eba-41a1-9043-8a92003067ef",
   "metadata": {},
   "source": [
    "### Importing Libraries"
   ]
  },
  {
   "cell_type": "code",
   "execution_count": 1,
   "id": "461c66f0-c376-47ff-8df6-af6d38d56a34",
   "metadata": {},
   "outputs": [
    {
     "name": "stdout",
     "output_type": "stream",
     "text": [
      "Numpy version: 1.26.4\n",
      "Pandas version: 2.2.1\n",
      "Stopwords example: ['i', 'me', 'my', 'myself', 'we', 'our', 'ours', 'ourselves', 'you', \"you're\"]\n",
      "Stem example: run\n"
     ]
    }
   ],
   "source": [
    "import numpy as np\n",
    "import pandas as pd\n",
    "import ast\n",
    "from nltk.corpus import stopwords as sw\n",
    "from pprint import pprint\n",
    "from nltk.stem import PorterStemmer\n",
    "\n",
    "# Examples check --\n",
    "print(\"Numpy version:\", np.__version__)\n",
    "print(\"Pandas version:\", pd.__version__)\n",
    "print(\"Stopwords example:\", sw.words('english')[:10])\n",
    "\n",
    "ps = PorterStemmer()\n",
    "print(\"Stem example:\", ps.stem(\"running\"))"
   ]
  },
  {
   "cell_type": "markdown",
   "id": "2715bfa1-eb31-4f57-9a51-dadf8a318cc7",
   "metadata": {},
   "source": [
    "### Fetching data into PANDAS Dataframe"
   ]
  },
  {
   "cell_type": "code",
   "execution_count": 2,
   "id": "65d99f40-2f65-4adf-8529-452facd9e2e6",
   "metadata": {},
   "outputs": [],
   "source": [
    "movies = pd.read_csv('tmdb_5000_movies.csv')\n",
    "credits = pd.read_csv('tmdb_5000_credits.csv')"
   ]
  },
  {
   "cell_type": "code",
   "execution_count": 3,
   "id": "b5e366c5-b2bb-46c8-96f9-59663d0da3f9",
   "metadata": {},
   "outputs": [
    {
     "data": {
      "text/html": [
       "<div>\n",
       "<style scoped>\n",
       "    .dataframe tbody tr th:only-of-type {\n",
       "        vertical-align: middle;\n",
       "    }\n",
       "\n",
       "    .dataframe tbody tr th {\n",
       "        vertical-align: top;\n",
       "    }\n",
       "\n",
       "    .dataframe thead th {\n",
       "        text-align: right;\n",
       "    }\n",
       "</style>\n",
       "<table border=\"1\" class=\"dataframe\">\n",
       "  <thead>\n",
       "    <tr style=\"text-align: right;\">\n",
       "      <th></th>\n",
       "      <th>budget</th>\n",
       "      <th>genres</th>\n",
       "      <th>homepage</th>\n",
       "      <th>id</th>\n",
       "      <th>keywords</th>\n",
       "      <th>original_language</th>\n",
       "      <th>original_title</th>\n",
       "      <th>overview</th>\n",
       "      <th>popularity</th>\n",
       "      <th>production_companies</th>\n",
       "      <th>production_countries</th>\n",
       "      <th>release_date</th>\n",
       "      <th>revenue</th>\n",
       "      <th>runtime</th>\n",
       "      <th>spoken_languages</th>\n",
       "      <th>status</th>\n",
       "      <th>tagline</th>\n",
       "      <th>title</th>\n",
       "      <th>vote_average</th>\n",
       "      <th>vote_count</th>\n",
       "    </tr>\n",
       "  </thead>\n",
       "  <tbody>\n",
       "    <tr>\n",
       "      <th>0</th>\n",
       "      <td>237000000</td>\n",
       "      <td>[{\"id\": 28, \"name\": \"Action\"}, {\"id\": 12, \"nam...</td>\n",
       "      <td>http://www.avatarmovie.com/</td>\n",
       "      <td>19995</td>\n",
       "      <td>[{\"id\": 1463, \"name\": \"culture clash\"}, {\"id\":...</td>\n",
       "      <td>en</td>\n",
       "      <td>Avatar</td>\n",
       "      <td>In the 22nd century, a paraplegic Marine is di...</td>\n",
       "      <td>150.437577</td>\n",
       "      <td>[{\"name\": \"Ingenious Film Partners\", \"id\": 289...</td>\n",
       "      <td>[{\"iso_3166_1\": \"US\", \"name\": \"United States o...</td>\n",
       "      <td>2009-12-10</td>\n",
       "      <td>2787965087</td>\n",
       "      <td>162.0</td>\n",
       "      <td>[{\"iso_639_1\": \"en\", \"name\": \"English\"}, {\"iso...</td>\n",
       "      <td>Released</td>\n",
       "      <td>Enter the World of Pandora.</td>\n",
       "      <td>Avatar</td>\n",
       "      <td>7.2</td>\n",
       "      <td>11800</td>\n",
       "    </tr>\n",
       "    <tr>\n",
       "      <th>1</th>\n",
       "      <td>300000000</td>\n",
       "      <td>[{\"id\": 12, \"name\": \"Adventure\"}, {\"id\": 14, \"...</td>\n",
       "      <td>http://disney.go.com/disneypictures/pirates/</td>\n",
       "      <td>285</td>\n",
       "      <td>[{\"id\": 270, \"name\": \"ocean\"}, {\"id\": 726, \"na...</td>\n",
       "      <td>en</td>\n",
       "      <td>Pirates of the Caribbean: At World's End</td>\n",
       "      <td>Captain Barbossa, long believed to be dead, ha...</td>\n",
       "      <td>139.082615</td>\n",
       "      <td>[{\"name\": \"Walt Disney Pictures\", \"id\": 2}, {\"...</td>\n",
       "      <td>[{\"iso_3166_1\": \"US\", \"name\": \"United States o...</td>\n",
       "      <td>2007-05-19</td>\n",
       "      <td>961000000</td>\n",
       "      <td>169.0</td>\n",
       "      <td>[{\"iso_639_1\": \"en\", \"name\": \"English\"}]</td>\n",
       "      <td>Released</td>\n",
       "      <td>At the end of the world, the adventure begins.</td>\n",
       "      <td>Pirates of the Caribbean: At World's End</td>\n",
       "      <td>6.9</td>\n",
       "      <td>4500</td>\n",
       "    </tr>\n",
       "    <tr>\n",
       "      <th>2</th>\n",
       "      <td>245000000</td>\n",
       "      <td>[{\"id\": 28, \"name\": \"Action\"}, {\"id\": 12, \"nam...</td>\n",
       "      <td>http://www.sonypictures.com/movies/spectre/</td>\n",
       "      <td>206647</td>\n",
       "      <td>[{\"id\": 470, \"name\": \"spy\"}, {\"id\": 818, \"name...</td>\n",
       "      <td>en</td>\n",
       "      <td>Spectre</td>\n",
       "      <td>A cryptic message from Bond’s past sends him o...</td>\n",
       "      <td>107.376788</td>\n",
       "      <td>[{\"name\": \"Columbia Pictures\", \"id\": 5}, {\"nam...</td>\n",
       "      <td>[{\"iso_3166_1\": \"GB\", \"name\": \"United Kingdom\"...</td>\n",
       "      <td>2015-10-26</td>\n",
       "      <td>880674609</td>\n",
       "      <td>148.0</td>\n",
       "      <td>[{\"iso_639_1\": \"fr\", \"name\": \"Fran\\u00e7ais\"},...</td>\n",
       "      <td>Released</td>\n",
       "      <td>A Plan No One Escapes</td>\n",
       "      <td>Spectre</td>\n",
       "      <td>6.3</td>\n",
       "      <td>4466</td>\n",
       "    </tr>\n",
       "    <tr>\n",
       "      <th>3</th>\n",
       "      <td>250000000</td>\n",
       "      <td>[{\"id\": 28, \"name\": \"Action\"}, {\"id\": 80, \"nam...</td>\n",
       "      <td>http://www.thedarkknightrises.com/</td>\n",
       "      <td>49026</td>\n",
       "      <td>[{\"id\": 849, \"name\": \"dc comics\"}, {\"id\": 853,...</td>\n",
       "      <td>en</td>\n",
       "      <td>The Dark Knight Rises</td>\n",
       "      <td>Following the death of District Attorney Harve...</td>\n",
       "      <td>112.312950</td>\n",
       "      <td>[{\"name\": \"Legendary Pictures\", \"id\": 923}, {\"...</td>\n",
       "      <td>[{\"iso_3166_1\": \"US\", \"name\": \"United States o...</td>\n",
       "      <td>2012-07-16</td>\n",
       "      <td>1084939099</td>\n",
       "      <td>165.0</td>\n",
       "      <td>[{\"iso_639_1\": \"en\", \"name\": \"English\"}]</td>\n",
       "      <td>Released</td>\n",
       "      <td>The Legend Ends</td>\n",
       "      <td>The Dark Knight Rises</td>\n",
       "      <td>7.6</td>\n",
       "      <td>9106</td>\n",
       "    </tr>\n",
       "    <tr>\n",
       "      <th>4</th>\n",
       "      <td>260000000</td>\n",
       "      <td>[{\"id\": 28, \"name\": \"Action\"}, {\"id\": 12, \"nam...</td>\n",
       "      <td>http://movies.disney.com/john-carter</td>\n",
       "      <td>49529</td>\n",
       "      <td>[{\"id\": 818, \"name\": \"based on novel\"}, {\"id\":...</td>\n",
       "      <td>en</td>\n",
       "      <td>John Carter</td>\n",
       "      <td>John Carter is a war-weary, former military ca...</td>\n",
       "      <td>43.926995</td>\n",
       "      <td>[{\"name\": \"Walt Disney Pictures\", \"id\": 2}]</td>\n",
       "      <td>[{\"iso_3166_1\": \"US\", \"name\": \"United States o...</td>\n",
       "      <td>2012-03-07</td>\n",
       "      <td>284139100</td>\n",
       "      <td>132.0</td>\n",
       "      <td>[{\"iso_639_1\": \"en\", \"name\": \"English\"}]</td>\n",
       "      <td>Released</td>\n",
       "      <td>Lost in our world, found in another.</td>\n",
       "      <td>John Carter</td>\n",
       "      <td>6.1</td>\n",
       "      <td>2124</td>\n",
       "    </tr>\n",
       "  </tbody>\n",
       "</table>\n",
       "</div>"
      ],
      "text/plain": [
       "      budget                                             genres  \\\n",
       "0  237000000  [{\"id\": 28, \"name\": \"Action\"}, {\"id\": 12, \"nam...   \n",
       "1  300000000  [{\"id\": 12, \"name\": \"Adventure\"}, {\"id\": 14, \"...   \n",
       "2  245000000  [{\"id\": 28, \"name\": \"Action\"}, {\"id\": 12, \"nam...   \n",
       "3  250000000  [{\"id\": 28, \"name\": \"Action\"}, {\"id\": 80, \"nam...   \n",
       "4  260000000  [{\"id\": 28, \"name\": \"Action\"}, {\"id\": 12, \"nam...   \n",
       "\n",
       "                                       homepage      id  \\\n",
       "0                   http://www.avatarmovie.com/   19995   \n",
       "1  http://disney.go.com/disneypictures/pirates/     285   \n",
       "2   http://www.sonypictures.com/movies/spectre/  206647   \n",
       "3            http://www.thedarkknightrises.com/   49026   \n",
       "4          http://movies.disney.com/john-carter   49529   \n",
       "\n",
       "                                            keywords original_language  \\\n",
       "0  [{\"id\": 1463, \"name\": \"culture clash\"}, {\"id\":...                en   \n",
       "1  [{\"id\": 270, \"name\": \"ocean\"}, {\"id\": 726, \"na...                en   \n",
       "2  [{\"id\": 470, \"name\": \"spy\"}, {\"id\": 818, \"name...                en   \n",
       "3  [{\"id\": 849, \"name\": \"dc comics\"}, {\"id\": 853,...                en   \n",
       "4  [{\"id\": 818, \"name\": \"based on novel\"}, {\"id\":...                en   \n",
       "\n",
       "                             original_title  \\\n",
       "0                                    Avatar   \n",
       "1  Pirates of the Caribbean: At World's End   \n",
       "2                                   Spectre   \n",
       "3                     The Dark Knight Rises   \n",
       "4                               John Carter   \n",
       "\n",
       "                                            overview  popularity  \\\n",
       "0  In the 22nd century, a paraplegic Marine is di...  150.437577   \n",
       "1  Captain Barbossa, long believed to be dead, ha...  139.082615   \n",
       "2  A cryptic message from Bond’s past sends him o...  107.376788   \n",
       "3  Following the death of District Attorney Harve...  112.312950   \n",
       "4  John Carter is a war-weary, former military ca...   43.926995   \n",
       "\n",
       "                                production_companies  \\\n",
       "0  [{\"name\": \"Ingenious Film Partners\", \"id\": 289...   \n",
       "1  [{\"name\": \"Walt Disney Pictures\", \"id\": 2}, {\"...   \n",
       "2  [{\"name\": \"Columbia Pictures\", \"id\": 5}, {\"nam...   \n",
       "3  [{\"name\": \"Legendary Pictures\", \"id\": 923}, {\"...   \n",
       "4        [{\"name\": \"Walt Disney Pictures\", \"id\": 2}]   \n",
       "\n",
       "                                production_countries release_date     revenue  \\\n",
       "0  [{\"iso_3166_1\": \"US\", \"name\": \"United States o...   2009-12-10  2787965087   \n",
       "1  [{\"iso_3166_1\": \"US\", \"name\": \"United States o...   2007-05-19   961000000   \n",
       "2  [{\"iso_3166_1\": \"GB\", \"name\": \"United Kingdom\"...   2015-10-26   880674609   \n",
       "3  [{\"iso_3166_1\": \"US\", \"name\": \"United States o...   2012-07-16  1084939099   \n",
       "4  [{\"iso_3166_1\": \"US\", \"name\": \"United States o...   2012-03-07   284139100   \n",
       "\n",
       "   runtime                                   spoken_languages    status  \\\n",
       "0    162.0  [{\"iso_639_1\": \"en\", \"name\": \"English\"}, {\"iso...  Released   \n",
       "1    169.0           [{\"iso_639_1\": \"en\", \"name\": \"English\"}]  Released   \n",
       "2    148.0  [{\"iso_639_1\": \"fr\", \"name\": \"Fran\\u00e7ais\"},...  Released   \n",
       "3    165.0           [{\"iso_639_1\": \"en\", \"name\": \"English\"}]  Released   \n",
       "4    132.0           [{\"iso_639_1\": \"en\", \"name\": \"English\"}]  Released   \n",
       "\n",
       "                                          tagline  \\\n",
       "0                     Enter the World of Pandora.   \n",
       "1  At the end of the world, the adventure begins.   \n",
       "2                           A Plan No One Escapes   \n",
       "3                                 The Legend Ends   \n",
       "4            Lost in our world, found in another.   \n",
       "\n",
       "                                      title  vote_average  vote_count  \n",
       "0                                    Avatar           7.2       11800  \n",
       "1  Pirates of the Caribbean: At World's End           6.9        4500  \n",
       "2                                   Spectre           6.3        4466  \n",
       "3                     The Dark Knight Rises           7.6        9106  \n",
       "4                               John Carter           6.1        2124  "
      ]
     },
     "execution_count": 3,
     "metadata": {},
     "output_type": "execute_result"
    }
   ],
   "source": [
    "movies.head()"
   ]
  },
  {
   "cell_type": "code",
   "execution_count": 4,
   "id": "d31678fd-fdcc-4e45-9a02-27e3c7fa768d",
   "metadata": {},
   "outputs": [
    {
     "data": {
      "text/html": [
       "<div>\n",
       "<style scoped>\n",
       "    .dataframe tbody tr th:only-of-type {\n",
       "        vertical-align: middle;\n",
       "    }\n",
       "\n",
       "    .dataframe tbody tr th {\n",
       "        vertical-align: top;\n",
       "    }\n",
       "\n",
       "    .dataframe thead th {\n",
       "        text-align: right;\n",
       "    }\n",
       "</style>\n",
       "<table border=\"1\" class=\"dataframe\">\n",
       "  <thead>\n",
       "    <tr style=\"text-align: right;\">\n",
       "      <th></th>\n",
       "      <th>movie_id</th>\n",
       "      <th>title</th>\n",
       "      <th>cast</th>\n",
       "      <th>crew</th>\n",
       "    </tr>\n",
       "  </thead>\n",
       "  <tbody>\n",
       "    <tr>\n",
       "      <th>0</th>\n",
       "      <td>19995</td>\n",
       "      <td>Avatar</td>\n",
       "      <td>[{\"cast_id\": 242, \"character\": \"Jake Sully\", \"...</td>\n",
       "      <td>[{\"credit_id\": \"52fe48009251416c750aca23\", \"de...</td>\n",
       "    </tr>\n",
       "    <tr>\n",
       "      <th>1</th>\n",
       "      <td>285</td>\n",
       "      <td>Pirates of the Caribbean: At World's End</td>\n",
       "      <td>[{\"cast_id\": 4, \"character\": \"Captain Jack Spa...</td>\n",
       "      <td>[{\"credit_id\": \"52fe4232c3a36847f800b579\", \"de...</td>\n",
       "    </tr>\n",
       "    <tr>\n",
       "      <th>2</th>\n",
       "      <td>206647</td>\n",
       "      <td>Spectre</td>\n",
       "      <td>[{\"cast_id\": 1, \"character\": \"James Bond\", \"cr...</td>\n",
       "      <td>[{\"credit_id\": \"54805967c3a36829b5002c41\", \"de...</td>\n",
       "    </tr>\n",
       "    <tr>\n",
       "      <th>3</th>\n",
       "      <td>49026</td>\n",
       "      <td>The Dark Knight Rises</td>\n",
       "      <td>[{\"cast_id\": 2, \"character\": \"Bruce Wayne / Ba...</td>\n",
       "      <td>[{\"credit_id\": \"52fe4781c3a36847f81398c3\", \"de...</td>\n",
       "    </tr>\n",
       "    <tr>\n",
       "      <th>4</th>\n",
       "      <td>49529</td>\n",
       "      <td>John Carter</td>\n",
       "      <td>[{\"cast_id\": 5, \"character\": \"John Carter\", \"c...</td>\n",
       "      <td>[{\"credit_id\": \"52fe479ac3a36847f813eaa3\", \"de...</td>\n",
       "    </tr>\n",
       "  </tbody>\n",
       "</table>\n",
       "</div>"
      ],
      "text/plain": [
       "   movie_id                                     title  \\\n",
       "0     19995                                    Avatar   \n",
       "1       285  Pirates of the Caribbean: At World's End   \n",
       "2    206647                                   Spectre   \n",
       "3     49026                     The Dark Knight Rises   \n",
       "4     49529                               John Carter   \n",
       "\n",
       "                                                cast  \\\n",
       "0  [{\"cast_id\": 242, \"character\": \"Jake Sully\", \"...   \n",
       "1  [{\"cast_id\": 4, \"character\": \"Captain Jack Spa...   \n",
       "2  [{\"cast_id\": 1, \"character\": \"James Bond\", \"cr...   \n",
       "3  [{\"cast_id\": 2, \"character\": \"Bruce Wayne / Ba...   \n",
       "4  [{\"cast_id\": 5, \"character\": \"John Carter\", \"c...   \n",
       "\n",
       "                                                crew  \n",
       "0  [{\"credit_id\": \"52fe48009251416c750aca23\", \"de...  \n",
       "1  [{\"credit_id\": \"52fe4232c3a36847f800b579\", \"de...  \n",
       "2  [{\"credit_id\": \"54805967c3a36829b5002c41\", \"de...  \n",
       "3  [{\"credit_id\": \"52fe4781c3a36847f81398c3\", \"de...  \n",
       "4  [{\"credit_id\": \"52fe479ac3a36847f813eaa3\", \"de...  "
      ]
     },
     "execution_count": 4,
     "metadata": {},
     "output_type": "execute_result"
    }
   ],
   "source": [
    "credits.head()"
   ]
  },
  {
   "cell_type": "code",
   "execution_count": 5,
   "id": "3b4cd4b0-88e7-417a-b35b-9ae79376b65b",
   "metadata": {},
   "outputs": [
    {
     "name": "stdout",
     "output_type": "stream",
     "text": [
      "Star Wars: Episode II - Attack of the Clones\n"
     ]
    },
    {
     "data": {
      "text/plain": [
       "'A Jedi Shall Not Know Anger. Nor Hatred. Nor Love.'"
      ]
     },
     "execution_count": 5,
     "metadata": {},
     "output_type": "execute_result"
    }
   ],
   "source": [
    "print(movies['title'][230])    \n",
    "movies['tagline'][230]"
   ]
  },
  {
   "cell_type": "code",
   "execution_count": 6,
   "id": "e4651f90-a044-4846-8e37-914092083cdb",
   "metadata": {},
   "outputs": [
    {
     "name": "stdout",
     "output_type": "stream",
     "text": [
      "('[{\"cast_id\": 242, \"character\": \"Jake Sully\", \"credit_id\": '\n",
      " '\"5602a8a7c3a3685532001c9a\", \"gender\": 2, \"id\": 65731, \"name\": \"Sam '\n",
      " 'Worthington\", \"order\": 0}, {\"cast_id\": 3, \"character\": \"Neytiri\", '\n",
      " '\"credit_id\": \"52fe48009251416c750ac9cb\", \"gender\": 1, \"id\": 8691, \"name\": '\n",
      " '\"Zoe Saldana\", \"order\": 1}, {\"cast_id\": 25, \"character\": \"Dr. Grace '\n",
      " 'Augustine\", \"credit_id\": \"52fe48009251416c750aca39\", \"gender\": 1, \"id\": '\n",
      " '10205, \"name\": \"Sigourney Weaver\", \"order\": 2}, {\"cast_id\": 4, \"character\": '\n",
      " '\"Col. Quaritch\", \"credit_id\": \"52fe48009251416c750ac9cf\", \"gender\": 2, \"id\": '\n",
      " '32747, \"name\": \"Stephen Lang\", \"order\": 3}, {\"cast_id\": 5, \"character\": '\n",
      " '\"Trudy Chacon\", \"credit_id\": \"52fe48009251416c750ac9d3\", \"gender\": 1, \"id\": '\n",
      " '17647, \"name\": \"Michelle Rodriguez\", \"order\": 4}, {\"cast_id\": 8, '\n",
      " '\"character\": \"Selfridge\", \"credit_id\": \"52fe48009251416c750ac9e1\", \"gender\": '\n",
      " '2, \"id\": 1771, \"name\": \"Giovanni Ribisi\", \"order\": 5}, {\"cast_id\": 7, '\n",
      " '\"character\": \"Norm Spellman\", \"credit_id\": \"52fe48009251416c750ac9dd\", '\n",
      " '\"gender\": 2, \"id\": 59231, \"name\": \"Joel David Moore\", \"order\": 6}, '\n",
      " '{\"cast_id\": 9, \"character\": \"Moat\", \"credit_id\": \"52fe48009251416c750ac9e5\", '\n",
      " '\"gender\": 1, \"id\": 30485, \"name\": \"CCH Pounder\", \"order\": 7}, {\"cast_id\": '\n",
      " '11, \"character\": \"Eytukan\", \"credit_id\": \"52fe48009251416c750ac9ed\", '\n",
      " '\"gender\": 2, \"id\": 15853, \"name\": \"Wes Studi\", \"order\": 8}, {\"cast_id\": 10, '\n",
      " '\"character\": \"Tsu\\'Tey\", \"credit_id\": \"52fe48009251416c750ac9e9\", \"gender\": '\n",
      " '2, \"id\": 10964, \"name\": \"Laz Alonso\", \"order\": 9}, {\"cast_id\": 12, '\n",
      " '\"character\": \"Dr. Max Patel\", \"credit_id\": \"52fe48009251416c750ac9f1\", '\n",
      " '\"gender\": 2, \"id\": 95697, \"name\": \"Dileep Rao\", \"order\": 10}, {\"cast_id\": '\n",
      " '13, \"character\": \"Lyle Wainfleet\", \"credit_id\": \"52fe48009251416c750ac9f5\", '\n",
      " '\"gender\": 2, \"id\": 98215, \"name\": \"Matt Gerald\", \"order\": 11}, {\"cast_id\": '\n",
      " '32, \"character\": \"Private Fike\", \"credit_id\": \"52fe48009251416c750aca5b\", '\n",
      " '\"gender\": 2, \"id\": 154153, \"name\": \"Sean Anthony Moran\", \"order\": 12}, '\n",
      " '{\"cast_id\": 33, \"character\": \"Cryo Vault Med Tech\", \"credit_id\": '\n",
      " '\"52fe48009251416c750aca5f\", \"gender\": 2, \"id\": 397312, \"name\": \"Jason '\n",
      " 'Whyte\", \"order\": 13}, {\"cast_id\": 34, \"character\": \"Venture Star Crew '\n",
      " 'Chief\", \"credit_id\": \"52fe48009251416c750aca63\", \"gender\": 2, \"id\": 42317, '\n",
      " '\"name\": \"Scott Lawrence\", \"order\": 14}, {\"cast_id\": 35, \"character\": \"Lock '\n",
      " 'Up Trooper\", \"credit_id\": \"52fe48009251416c750aca67\", \"gender\": 2, \"id\": '\n",
      " '986734, \"name\": \"Kelly Kilgour\", \"order\": 15}, {\"cast_id\": 36, \"character\": '\n",
      " '\"Shuttle Pilot\", \"credit_id\": \"52fe48009251416c750aca6b\", \"gender\": 0, \"id\": '\n",
      " '1207227, \"name\": \"James Patrick Pitt\", \"order\": 16}, {\"cast_id\": 37, '\n",
      " '\"character\": \"Shuttle Co-Pilot\", \"credit_id\": \"52fe48009251416c750aca6f\", '\n",
      " '\"gender\": 0, \"id\": 1180936, \"name\": \"Sean Patrick Murphy\", \"order\": 17}, '\n",
      " '{\"cast_id\": 38, \"character\": \"Shuttle Crew Chief\", \"credit_id\": '\n",
      " '\"52fe48009251416c750aca73\", \"gender\": 2, \"id\": 1019578, \"name\": \"Peter '\n",
      " 'Dillon\", \"order\": 18}, {\"cast_id\": 39, \"character\": \"Tractor Operator / '\n",
      " 'Troupe\", \"credit_id\": \"52fe48009251416c750aca77\", \"gender\": 0, \"id\": 91443, '\n",
      " '\"name\": \"Kevin Dorman\", \"order\": 19}, {\"cast_id\": 40, \"character\": \"Dragon '\n",
      " 'Gunship Pilot\", \"credit_id\": \"52fe48009251416c750aca7b\", \"gender\": 2, \"id\": '\n",
      " '173391, \"name\": \"Kelson Henderson\", \"order\": 20}, {\"cast_id\": 41, '\n",
      " '\"character\": \"Dragon Gunship Gunner\", \"credit_id\": '\n",
      " '\"52fe48009251416c750aca7f\", \"gender\": 0, \"id\": 1207236, \"name\": \"David Van '\n",
      " 'Horn\", \"order\": 21}, {\"cast_id\": 42, \"character\": \"Dragon Gunship '\n",
      " 'Navigator\", \"credit_id\": \"52fe48009251416c750aca83\", \"gender\": 0, \"id\": '\n",
      " '215913, \"name\": \"Jacob Tomuri\", \"order\": 22}, {\"cast_id\": 43, \"character\": '\n",
      " '\"Suit #1\", \"credit_id\": \"52fe48009251416c750aca87\", \"gender\": 0, \"id\": '\n",
      " '143206, \"name\": \"Michael Blain-Rozgay\", \"order\": 23}, {\"cast_id\": 44, '\n",
      " '\"character\": \"Suit #2\", \"credit_id\": \"52fe48009251416c750aca8b\", \"gender\": '\n",
      " '2, \"id\": 169676, \"name\": \"Jon Curry\", \"order\": 24}, {\"cast_id\": 46, '\n",
      " '\"character\": \"Ambient Room Tech\", \"credit_id\": \"52fe48009251416c750aca8f\", '\n",
      " '\"gender\": 0, \"id\": 1048610, \"name\": \"Luke Hawker\", \"order\": 25}, {\"cast_id\": '\n",
      " '47, \"character\": \"Ambient Room Tech / Troupe\", \"credit_id\": '\n",
      " '\"52fe48009251416c750aca93\", \"gender\": 0, \"id\": 42288, \"name\": \"Woody '\n",
      " 'Schultz\", \"order\": 26}, {\"cast_id\": 48, \"character\": \"Horse Clan Leader\", '\n",
      " '\"credit_id\": \"52fe48009251416c750aca97\", \"gender\": 2, \"id\": 68278, \"name\": '\n",
      " '\"Peter Mensah\", \"order\": 27}, {\"cast_id\": 49, \"character\": \"Link Room Tech\", '\n",
      " '\"credit_id\": \"52fe48009251416c750aca9b\", \"gender\": 0, \"id\": 1207247, \"name\": '\n",
      " '\"Sonia Yee\", \"order\": 28}, {\"cast_id\": 50, \"character\": \"Basketball Avatar / '\n",
      " 'Troupe\", \"credit_id\": \"52fe48009251416c750aca9f\", \"gender\": 1, \"id\": '\n",
      " '1207248, \"name\": \"Jahnel Curfman\", \"order\": 29}, {\"cast_id\": 51, '\n",
      " '\"character\": \"Basketball Avatar\", \"credit_id\": \"52fe48009251416c750acaa3\", '\n",
      " '\"gender\": 0, \"id\": 89714, \"name\": \"Ilram Choi\", \"order\": 30}, {\"cast_id\": '\n",
      " '52, \"character\": \"Na\\'vi Child\", \"credit_id\": \"52fe48009251416c750acaa7\", '\n",
      " '\"gender\": 0, \"id\": 1207249, \"name\": \"Kyla Warren\", \"order\": 31}, {\"cast_id\": '\n",
      " '53, \"character\": \"Troupe\", \"credit_id\": \"52fe48009251416c750acaab\", '\n",
      " '\"gender\": 0, \"id\": 1207250, \"name\": \"Lisa Roumain\", \"order\": 32}, '\n",
      " '{\"cast_id\": 54, \"character\": \"Troupe\", \"credit_id\": '\n",
      " '\"52fe48009251416c750acaaf\", \"gender\": 1, \"id\": 83105, \"name\": \"Debra '\n",
      " 'Wilson\", \"order\": 33}, {\"cast_id\": 57, \"character\": \"Troupe\", \"credit_id\": '\n",
      " '\"52fe48009251416c750acabb\", \"gender\": 0, \"id\": 1207253, \"name\": \"Chris '\n",
      " 'Mala\", \"order\": 34}, {\"cast_id\": 55, \"character\": \"Troupe\", \"credit_id\": '\n",
      " '\"52fe48009251416c750acab3\", \"gender\": 0, \"id\": 1207251, \"name\": \"Taylor '\n",
      " 'Kibby\", \"order\": 35}, {\"cast_id\": 56, \"character\": \"Troupe\", \"credit_id\": '\n",
      " '\"52fe48009251416c750acab7\", \"gender\": 0, \"id\": 1207252, \"name\": \"Jodie '\n",
      " 'Landau\", \"order\": 36}, {\"cast_id\": 58, \"character\": \"Troupe\", \"credit_id\": '\n",
      " '\"52fe48009251416c750acabf\", \"gender\": 0, \"id\": 1207254, \"name\": \"Julie '\n",
      " 'Lamm\", \"order\": 37}, {\"cast_id\": 59, \"character\": \"Troupe\", \"credit_id\": '\n",
      " '\"52fe48009251416c750acac3\", \"gender\": 0, \"id\": 1207257, \"name\": \"Cullen B. '\n",
      " 'Madden\", \"order\": 38}, {\"cast_id\": 60, \"character\": \"Troupe\", \"credit_id\": '\n",
      " '\"52fe48009251416c750acac7\", \"gender\": 0, \"id\": 1207259, \"name\": \"Joseph '\n",
      " 'Brady Madden\", \"order\": 39}, {\"cast_id\": 61, \"character\": \"Troupe\", '\n",
      " '\"credit_id\": \"52fe48009251416c750acacb\", \"gender\": 0, \"id\": 1207262, \"name\": '\n",
      " '\"Frankie Torres\", \"order\": 40}, {\"cast_id\": 62, \"character\": \"Troupe\", '\n",
      " '\"credit_id\": \"52fe48009251416c750acacf\", \"gender\": 1, \"id\": 1158600, \"name\": '\n",
      " '\"Austin Wilson\", \"order\": 41}, {\"cast_id\": 63, \"character\": \"Troupe\", '\n",
      " '\"credit_id\": \"52fe48019251416c750acad3\", \"gender\": 1, \"id\": 983705, \"name\": '\n",
      " '\"Sara Wilson\", \"order\": 42}, {\"cast_id\": 64, \"character\": \"Troupe\", '\n",
      " '\"credit_id\": \"52fe48019251416c750acad7\", \"gender\": 0, \"id\": 1207263, \"name\": '\n",
      " '\"Tamica Washington-Miller\", \"order\": 43}, {\"cast_id\": 65, \"character\": \"Op '\n",
      " 'Center Staff\", \"credit_id\": \"52fe48019251416c750acadb\", \"gender\": 1, \"id\": '\n",
      " '1145098, \"name\": \"Lucy Briant\", \"order\": 44}, {\"cast_id\": 66, \"character\": '\n",
      " '\"Op Center Staff\", \"credit_id\": \"52fe48019251416c750acadf\", \"gender\": 2, '\n",
      " '\"id\": 33305, \"name\": \"Nathan Meister\", \"order\": 45}, {\"cast_id\": 67, '\n",
      " '\"character\": \"Op Center Staff\", \"credit_id\": \"52fe48019251416c750acae3\", '\n",
      " '\"gender\": 0, \"id\": 1207264, \"name\": \"Gerry Blair\", \"order\": 46}, {\"cast_id\": '\n",
      " '68, \"character\": \"Op Center Staff\", \"credit_id\": \"52fe48019251416c750acae7\", '\n",
      " '\"gender\": 2, \"id\": 33311, \"name\": \"Matthew Chamberlain\", \"order\": 47}, '\n",
      " '{\"cast_id\": 69, \"character\": \"Op Center Staff\", \"credit_id\": '\n",
      " '\"52fe48019251416c750acaeb\", \"gender\": 0, \"id\": 1207265, \"name\": \"Paul '\n",
      " 'Yates\", \"order\": 48}, {\"cast_id\": 70, \"character\": \"Op Center Duty Officer\", '\n",
      " '\"credit_id\": \"52fe48019251416c750acaef\", \"gender\": 0, \"id\": 1207266, \"name\": '\n",
      " '\"Wray Wilson\", \"order\": 49}, {\"cast_id\": 71, \"character\": \"Op Center Staff\", '\n",
      " '\"credit_id\": \"52fe48019251416c750acaf3\", \"gender\": 2, \"id\": 54492, \"name\": '\n",
      " '\"James Gaylyn\", \"order\": 50}, {\"cast_id\": 72, \"character\": \"Dancer\", '\n",
      " '\"credit_id\": \"52fe48019251416c750acaf7\", \"gender\": 0, \"id\": 1207267, \"name\": '\n",
      " '\"Melvin Leno Clark III\", \"order\": 51}, {\"cast_id\": 73, \"character\": '\n",
      " '\"Dancer\", \"credit_id\": \"52fe48019251416c750acafb\", \"gender\": 0, \"id\": '\n",
      " '1207268, \"name\": \"Carvon Futrell\", \"order\": 52}, {\"cast_id\": 74, '\n",
      " '\"character\": \"Dancer\", \"credit_id\": \"52fe48019251416c750acaff\", \"gender\": 0, '\n",
      " '\"id\": 1207269, \"name\": \"Brandon Jelkes\", \"order\": 53}, {\"cast_id\": 75, '\n",
      " '\"character\": \"Dancer\", \"credit_id\": \"52fe48019251416c750acb03\", \"gender\": 0, '\n",
      " '\"id\": 1207270, \"name\": \"Micah Moch\", \"order\": 54}, {\"cast_id\": 76, '\n",
      " '\"character\": \"Dancer\", \"credit_id\": \"52fe48019251416c750acb07\", \"gender\": 0, '\n",
      " '\"id\": 1207271, \"name\": \"Hanniyah Muhammad\", \"order\": 55}, {\"cast_id\": 77, '\n",
      " '\"character\": \"Dancer\", \"credit_id\": \"52fe48019251416c750acb0b\", \"gender\": 0, '\n",
      " '\"id\": 1207272, \"name\": \"Christopher Nolen\", \"order\": 56}, {\"cast_id\": 78, '\n",
      " '\"character\": \"Dancer\", \"credit_id\": \"52fe48019251416c750acb0f\", \"gender\": 0, '\n",
      " '\"id\": 1207273, \"name\": \"Christa Oliver\", \"order\": 57}, {\"cast_id\": 79, '\n",
      " '\"character\": \"Dancer\", \"credit_id\": \"52fe48019251416c750acb13\", \"gender\": 0, '\n",
      " '\"id\": 1207274, \"name\": \"April Marie Thomas\", \"order\": 58}, {\"cast_id\": 80, '\n",
      " '\"character\": \"Dancer\", \"credit_id\": \"52fe48019251416c750acb17\", \"gender\": 0, '\n",
      " '\"id\": 1207275, \"name\": \"Bravita A. Threatt\", \"order\": 59}, {\"cast_id\": 81, '\n",
      " '\"character\": \"Mining Chief (uncredited)\", \"credit_id\": '\n",
      " '\"52fe48019251416c750acb1b\", \"gender\": 0, \"id\": 1207276, \"name\": \"Colin '\n",
      " 'Bleasdale\", \"order\": 60}, {\"cast_id\": 82, \"character\": \"Veteran Miner '\n",
      " '(uncredited)\", \"credit_id\": \"52fe48019251416c750acb1f\", \"gender\": 0, \"id\": '\n",
      " '107969, \"name\": \"Mike Bodnar\", \"order\": 61}, {\"cast_id\": 83, \"character\": '\n",
      " '\"Richard (uncredited)\", \"credit_id\": \"52fe48019251416c750acb23\", \"gender\": '\n",
      " '0, \"id\": 1207278, \"name\": \"Matt Clayton\", \"order\": 62}, {\"cast_id\": 84, '\n",
      " '\"character\": \"Nav\\'i (uncredited)\", \"credit_id\": \"52fe48019251416c750acb27\", '\n",
      " '\"gender\": 1, \"id\": 147898, \"name\": \"Nicole Dionne\", \"order\": 63}, '\n",
      " '{\"cast_id\": 85, \"character\": \"Trooper (uncredited)\", \"credit_id\": '\n",
      " '\"52fe48019251416c750acb2b\", \"gender\": 0, \"id\": 1207280, \"name\": \"Jamie '\n",
      " 'Harrison\", \"order\": 64}, {\"cast_id\": 86, \"character\": \"Trooper '\n",
      " '(uncredited)\", \"credit_id\": \"52fe48019251416c750acb2f\", \"gender\": 0, \"id\": '\n",
      " '1207281, \"name\": \"Allan Henry\", \"order\": 65}, {\"cast_id\": 87, \"character\": '\n",
      " '\"Ground Technician (uncredited)\", \"credit_id\": \"52fe48019251416c750acb33\", '\n",
      " '\"gender\": 2, \"id\": 1207282, \"name\": \"Anthony Ingruber\", \"order\": 66}, '\n",
      " '{\"cast_id\": 88, \"character\": \"Flight Crew Mechanic (uncredited)\", '\n",
      " '\"credit_id\": \"52fe48019251416c750acb37\", \"gender\": 0, \"id\": 1207283, \"name\": '\n",
      " '\"Ashley Jeffery\", \"order\": 67}, {\"cast_id\": 14, \"character\": \"Samson Pilot\", '\n",
      " '\"credit_id\": \"52fe48009251416c750ac9f9\", \"gender\": 0, \"id\": 98216, \"name\": '\n",
      " '\"Dean Knowsley\", \"order\": 68}, {\"cast_id\": 89, \"character\": \"Trooper '\n",
      " '(uncredited)\", \"credit_id\": \"52fe48019251416c750acb3b\", \"gender\": 0, \"id\": '\n",
      " '1201399, \"name\": \"Joseph Mika-Hunt\", \"order\": 69}, {\"cast_id\": 90, '\n",
      " '\"character\": \"Banshee (uncredited)\", \"credit_id\": '\n",
      " '\"52fe48019251416c750acb3f\", \"gender\": 0, \"id\": 236696, \"name\": \"Terry '\n",
      " 'Notary\", \"order\": 70}, {\"cast_id\": 91, \"character\": \"Soldier (uncredited)\", '\n",
      " '\"credit_id\": \"52fe48019251416c750acb43\", \"gender\": 0, \"id\": 1207287, \"name\": '\n",
      " '\"Kai Pantano\", \"order\": 71}, {\"cast_id\": 92, \"character\": \"Blast Technician '\n",
      " '(uncredited)\", \"credit_id\": \"52fe48019251416c750acb47\", \"gender\": 0, \"id\": '\n",
      " '1207288, \"name\": \"Logan Pithyou\", \"order\": 72}, {\"cast_id\": 93, \"character\": '\n",
      " '\"Vindum Raah (uncredited)\", \"credit_id\": \"52fe48019251416c750acb4b\", '\n",
      " '\"gender\": 0, \"id\": 1207289, \"name\": \"Stuart Pollock\", \"order\": 73}, '\n",
      " '{\"cast_id\": 94, \"character\": \"Hero (uncredited)\", \"credit_id\": '\n",
      " '\"52fe48019251416c750acb4f\", \"gender\": 0, \"id\": 584868, \"name\": \"Raja\", '\n",
      " '\"order\": 74}, {\"cast_id\": 95, \"character\": \"Ops Centreworker (uncredited)\", '\n",
      " '\"credit_id\": \"52fe48019251416c750acb53\", \"gender\": 0, \"id\": 1207290, \"name\": '\n",
      " '\"Gareth Ruck\", \"order\": 75}, {\"cast_id\": 96, \"character\": \"Engineer '\n",
      " '(uncredited)\", \"credit_id\": \"52fe48019251416c750acb57\", \"gender\": 0, \"id\": '\n",
      " '1062463, \"name\": \"Rhian Sheehan\", \"order\": 76}, {\"cast_id\": 97, \"character\": '\n",
      " '\"Col. Quaritch\\'s Mech Suit (uncredited)\", \"credit_id\": '\n",
      " '\"52fe48019251416c750acb5b\", \"gender\": 0, \"id\": 60656, \"name\": \"T. J. Storm\", '\n",
      " '\"order\": 77}, {\"cast_id\": 98, \"character\": \"Female Marine (uncredited)\", '\n",
      " '\"credit_id\": \"52fe48019251416c750acb5f\", \"gender\": 0, \"id\": 1207291, \"name\": '\n",
      " '\"Jodie Taylor\", \"order\": 78}, {\"cast_id\": 99, \"character\": \"Ikran Clan '\n",
      " 'Leader (uncredited)\", \"credit_id\": \"52fe48019251416c750acb63\", \"gender\": 1, '\n",
      " '\"id\": 1186027, \"name\": \"Alicia Vela-Bailey\", \"order\": 79}, {\"cast_id\": 100, '\n",
      " '\"character\": \"Geologist (uncredited)\", \"credit_id\": '\n",
      " '\"52fe48019251416c750acb67\", \"gender\": 0, \"id\": 1207292, \"name\": \"Richard '\n",
      " 'Whiteside\", \"order\": 80}, {\"cast_id\": 101, \"character\": \"Na\\'vi '\n",
      " '(uncredited)\", \"credit_id\": \"52fe48019251416c750acb6b\", \"gender\": 0, \"id\": '\n",
      " '103259, \"name\": \"Nikie Zambo\", \"order\": 81}, {\"cast_id\": 102, \"character\": '\n",
      " '\"Ambient Room Tech / Troupe\", \"credit_id\": \"52fe48019251416c750acb6f\", '\n",
      " '\"gender\": 1, \"id\": 42286, \"name\": \"Julene Renee\", \"order\": 82}]')\n"
     ]
    }
   ],
   "source": [
    " pprint(credits['cast'][0])"
   ]
  },
  {
   "cell_type": "code",
   "execution_count": 7,
   "id": "3fa56eb2-ea9e-4437-9eda-52b70e940f6d",
   "metadata": {},
   "outputs": [],
   "source": [
    "# importing stopwords from nltk.corpus\n",
    "swords = sw.words('english')"
   ]
  },
  {
   "cell_type": "code",
   "execution_count": 8,
   "id": "801de6db-442e-4e03-a237-3fded37dda74",
   "metadata": {},
   "outputs": [],
   "source": [
    "data = movies.merge(credits, on='title')       # merging two Dataframes"
   ]
  },
  {
   "cell_type": "code",
   "execution_count": 9,
   "id": "ee4715cc-cea8-4416-a9b6-2dbd6db045f4",
   "metadata": {},
   "outputs": [],
   "source": [
    "data = data.drop(['budget', 'homepage', 'original_language', 'original_title', 'popularity', 'production_companies', 'production_countries', 'release_date', 'revenue', 'runtime', 'spoken_languages', 'status', 'tagline', 'vote_average', 'vote_count', 'movie_id'], axis=1)"
   ]
  },
  {
   "cell_type": "code",
   "execution_count": 10,
   "id": "58e7b7b5-d51d-4fd8-8b6e-a719ce33c949",
   "metadata": {},
   "outputs": [
    {
     "data": {
      "text/plain": [
       "(4809, 7)"
      ]
     },
     "execution_count": 10,
     "metadata": {},
     "output_type": "execute_result"
    }
   ],
   "source": [
    "data.shape"
   ]
  },
  {
   "cell_type": "code",
   "execution_count": 11,
   "id": "b84650dc-4f8e-4808-a6ba-ab328c919ae4",
   "metadata": {},
   "outputs": [
    {
     "data": {
      "text/plain": [
       "Index(['genres', 'id', 'keywords', 'overview', 'title', 'cast', 'crew'], dtype='object')"
      ]
     },
     "execution_count": 11,
     "metadata": {},
     "output_type": "execute_result"
    }
   ],
   "source": [
    "data.columns"
   ]
  },
  {
   "cell_type": "code",
   "execution_count": 12,
   "id": "07641174-4c08-41a6-96e0-b01b46ce49f2",
   "metadata": {},
   "outputs": [
    {
     "data": {
      "text/plain": [
       "genres      0\n",
       "id          0\n",
       "keywords    0\n",
       "overview    3\n",
       "title       0\n",
       "cast        0\n",
       "crew        0\n",
       "dtype: int64"
      ]
     },
     "execution_count": 12,
     "metadata": {},
     "output_type": "execute_result"
    }
   ],
   "source": [
    "data.isnull().sum()"
   ]
  },
  {
   "cell_type": "code",
   "execution_count": 13,
   "id": "de01df1e-c61b-4e59-b516-d57726e58d2e",
   "metadata": {},
   "outputs": [],
   "source": [
    "data.dropna(inplace=True)"
   ]
  },
  {
   "cell_type": "code",
   "execution_count": 14,
   "id": "54929152-03ae-48f2-ac06-352fb81a15c4",
   "metadata": {},
   "outputs": [
    {
     "data": {
      "text/plain": [
       "0"
      ]
     },
     "execution_count": 14,
     "metadata": {},
     "output_type": "execute_result"
    }
   ],
   "source": [
    "data.duplicated().sum()"
   ]
  },
  {
   "cell_type": "markdown",
   "id": "56b48a33-27a6-4906-b3b1-03dddf6b7643",
   "metadata": {},
   "source": [
    "## DEFINING IMPORTANT FUNCTIONS"
   ]
  },
  {
   "cell_type": "code",
   "execution_count": 15,
   "id": "9ceb0361-be83-4eb5-bdc3-52f952e0fe4d",
   "metadata": {},
   "outputs": [],
   "source": [
    "def change(obj):\n",
    "    lst = []\n",
    "    for i in ast.literal_eval(obj):\n",
    "        lst.append(i['name']) \n",
    "    for i in lst:\n",
    "        if i == 'Science Fiction':\n",
    "            lst.remove('Science Fiction')\n",
    "            lst.append('SciFi')\n",
    "    return lst"
   ]
  },
  {
   "cell_type": "code",
   "execution_count": 16,
   "id": "a721baf7-d7d4-4345-8808-144b14f2f8bd",
   "metadata": {},
   "outputs": [],
   "source": [
    "def changeforCast(obj):\n",
    "    lst = []\n",
    "    counter = 0\n",
    "    for i in ast.literal_eval(obj):\n",
    "        if counter != 3:\n",
    "            lst.append(i['name']) \n",
    "            counter += 1\n",
    "        else:\n",
    "            break\n",
    "    return lst"
   ]
  },
  {
   "cell_type": "code",
   "execution_count": 17,
   "id": "a5e0f2fc-e748-426f-952d-240e645bee63",
   "metadata": {},
   "outputs": [],
   "source": [
    "def changeforCrew(obj):\n",
    "    lst = []\n",
    "    for i in ast.literal_eval(obj):\n",
    "        if i['job'] == 'Director':\n",
    "            lst.append(i['name'])\n",
    "            break\n",
    "    return lst"
   ]
  },
  {
   "cell_type": "code",
   "execution_count": 18,
   "id": "9541ee07-2fc5-4994-82cb-3db1a81607d0",
   "metadata": {},
   "outputs": [],
   "source": [
    "def removeSpace(obj):\n",
    "    lst = []\n",
    "    for i in obj:\n",
    "        i = i.replace(\" \", \"\")\n",
    "        lst.append(i)\n",
    "    return lst"
   ]
  },
  {
   "cell_type": "code",
   "execution_count": 19,
   "id": "703139db-e38a-4130-af94-1060ba0871f9",
   "metadata": {},
   "outputs": [],
   "source": [
    "def stemm(obj):\n",
    "    lst = []\n",
    "    for i in obj.split():\n",
    "        lst.append(ps.stem(i))\n",
    "    return ' '.join(lst)"
   ]
  },
  {
   "cell_type": "markdown",
   "id": "8a17d37b-6516-40cb-8b70-82994dd8877d",
   "metadata": {},
   "source": [
    "### Using functions on desired Columns/Features of Dataframe"
   ]
  },
  {
   "cell_type": "code",
   "execution_count": 20,
   "id": "15fd11db-42f5-445a-94d1-b89eb90a918f",
   "metadata": {},
   "outputs": [],
   "source": [
    "data['genres'] = data['genres'].apply(change)                      # applying change function\n",
    "data['keywords'] = data['keywords'].apply(change)                  # applying change function\n",
    "data['cast'] = data['cast'].apply(changeforCast)                   # applying changeforCast function\n",
    "data['crew'] = data['crew'].apply(changeforCrew)                   # applying changeforCrew function\n",
    "data['overview'] = data['overview'].apply(lambda x: x.split())     # applying string to list to each field of Overview"
   ]
  },
  {
   "cell_type": "code",
   "execution_count": 21,
   "id": "26cb6387-a11d-4eaa-8d1b-d788ac220790",
   "metadata": {},
   "outputs": [],
   "source": [
    "data['genres'] = data['genres'].apply(removeSpace)                 # applying removeSpace function\n",
    "data['keywords'] = data['keywords'].apply(removeSpace)             # applying removeSpace function\n",
    "data['cast'] = data['cast'].apply(removeSpace)                     # applying removeSpace function\n",
    "data['crew'] = data['crew'].apply(removeSpace)                     # applying removeSpace function"
   ]
  },
  {
   "cell_type": "markdown",
   "id": "7a01ec11-d6e6-4934-9015-f83baa08398b",
   "metadata": {},
   "source": [
    "### Making new \"tag\" column in Dataframe"
   ]
  },
  {
   "cell_type": "code",
   "execution_count": 22,
   "id": "a17a9072-b3c1-42d7-a259-a3a4484bc514",
   "metadata": {},
   "outputs": [],
   "source": [
    "data['tag'] = data['overview'] + data['genres'] + data['keywords'] + data['cast'] + data['crew']"
   ]
  },
  {
   "cell_type": "markdown",
   "id": "33025b4c-ee40-4f5d-9bd9-857eafa7f544",
   "metadata": {},
   "source": [
    "### Removing Unwanted Columns"
   ]
  },
  {
   "cell_type": "code",
   "execution_count": 23,
   "id": "295d5348-b700-4789-b2b6-ceda006613e6",
   "metadata": {},
   "outputs": [],
   "source": [
    "data = data.drop(['overview', 'genres', 'keywords', 'cast', 'crew'], axis = 1)"
   ]
  },
  {
   "cell_type": "code",
   "execution_count": 24,
   "id": "8fe8156f-a6ba-40de-a2a2-3186ad27d671",
   "metadata": {},
   "outputs": [],
   "source": [
    "data['tag'] = data['tag'].apply(lambda x: ' '.join(x))"
   ]
  },
  {
   "cell_type": "code",
   "execution_count": 25,
   "id": "ce60ddf8-1a25-42d4-bc02-67aca4e4435e",
   "metadata": {},
   "outputs": [
    {
     "data": {
      "text/html": [
       "<div>\n",
       "<style scoped>\n",
       "    .dataframe tbody tr th:only-of-type {\n",
       "        vertical-align: middle;\n",
       "    }\n",
       "\n",
       "    .dataframe tbody tr th {\n",
       "        vertical-align: top;\n",
       "    }\n",
       "\n",
       "    .dataframe thead th {\n",
       "        text-align: right;\n",
       "    }\n",
       "</style>\n",
       "<table border=\"1\" class=\"dataframe\">\n",
       "  <thead>\n",
       "    <tr style=\"text-align: right;\">\n",
       "      <th></th>\n",
       "      <th>id</th>\n",
       "      <th>title</th>\n",
       "      <th>tag</th>\n",
       "    </tr>\n",
       "  </thead>\n",
       "  <tbody>\n",
       "    <tr>\n",
       "      <th>0</th>\n",
       "      <td>19995</td>\n",
       "      <td>Avatar</td>\n",
       "      <td>In the 22nd century, a paraplegic Marine is di...</td>\n",
       "    </tr>\n",
       "    <tr>\n",
       "      <th>1</th>\n",
       "      <td>285</td>\n",
       "      <td>Pirates of the Caribbean: At World's End</td>\n",
       "      <td>Captain Barbossa, long believed to be dead, ha...</td>\n",
       "    </tr>\n",
       "    <tr>\n",
       "      <th>2</th>\n",
       "      <td>206647</td>\n",
       "      <td>Spectre</td>\n",
       "      <td>A cryptic message from Bond’s past sends him o...</td>\n",
       "    </tr>\n",
       "    <tr>\n",
       "      <th>3</th>\n",
       "      <td>49026</td>\n",
       "      <td>The Dark Knight Rises</td>\n",
       "      <td>Following the death of District Attorney Harve...</td>\n",
       "    </tr>\n",
       "    <tr>\n",
       "      <th>4</th>\n",
       "      <td>49529</td>\n",
       "      <td>John Carter</td>\n",
       "      <td>John Carter is a war-weary, former military ca...</td>\n",
       "    </tr>\n",
       "  </tbody>\n",
       "</table>\n",
       "</div>"
      ],
      "text/plain": [
       "       id                                     title  \\\n",
       "0   19995                                    Avatar   \n",
       "1     285  Pirates of the Caribbean: At World's End   \n",
       "2  206647                                   Spectre   \n",
       "3   49026                     The Dark Knight Rises   \n",
       "4   49529                               John Carter   \n",
       "\n",
       "                                                 tag  \n",
       "0  In the 22nd century, a paraplegic Marine is di...  \n",
       "1  Captain Barbossa, long believed to be dead, ha...  \n",
       "2  A cryptic message from Bond’s past sends him o...  \n",
       "3  Following the death of District Attorney Harve...  \n",
       "4  John Carter is a war-weary, former military ca...  "
      ]
     },
     "execution_count": 25,
     "metadata": {},
     "output_type": "execute_result"
    }
   ],
   "source": [
    "data.head()"
   ]
  },
  {
   "cell_type": "markdown",
   "id": "31d71c5c-8022-492c-92c1-63034abe07ad",
   "metadata": {},
   "source": [
    "## Data Modification"
   ]
  },
  {
   "cell_type": "code",
   "execution_count": 26,
   "id": "6b11e8cb-8188-46e8-9bf9-264aaea4f914",
   "metadata": {},
   "outputs": [],
   "source": [
    "data['tag'] = data['tag'].apply(lambda x: ' '.join(word for word in x.split() if word not in swords))"
   ]
  },
  {
   "cell_type": "code",
   "execution_count": 27,
   "id": "44921039-07fe-463c-80b2-93f8d72c048f",
   "metadata": {},
   "outputs": [],
   "source": [
    "ps = PorterStemmer()"
   ]
  },
  {
   "cell_type": "code",
   "execution_count": 28,
   "id": "3758d104-1db0-408e-9af5-2d8e29d91f4a",
   "metadata": {},
   "outputs": [],
   "source": [
    "data['tag'] = data['tag'].apply(stemm)"
   ]
  },
  {
   "cell_type": "markdown",
   "id": "0495407c-9dfd-4fce-8b6b-b057d6388ff0",
   "metadata": {},
   "source": [
    "## Vectorization"
   ]
  },
  {
   "cell_type": "code",
   "execution_count": 29,
   "id": "e7c9bfd1-afeb-40b3-99df-c78d91baa6f9",
   "metadata": {},
   "outputs": [],
   "source": [
    "from sklearn.feature_extraction.text import CountVectorizer\n",
    "cv = CountVectorizer(max_features=5500, stop_words='english')"
   ]
  },
  {
   "cell_type": "code",
   "execution_count": 30,
   "id": "9b997a89-53d1-447e-9f58-ceb837f572ea",
   "metadata": {},
   "outputs": [
    {
     "name": "stdout",
     "output_type": "stream",
     "text": [
      "Requirement already satisfied: scikit-learn in c:\\users\\lenovo\\anaconda3\\envs\\myenv\\lib\\site-packages (1.5.0)\n",
      "Requirement already satisfied: numpy>=1.19.5 in c:\\users\\lenovo\\anaconda3\\envs\\myenv\\lib\\site-packages (from scikit-learn) (1.26.4)\n",
      "Requirement already satisfied: scipy>=1.6.0 in c:\\users\\lenovo\\anaconda3\\envs\\myenv\\lib\\site-packages (from scikit-learn) (1.13.0)\n",
      "Requirement already satisfied: joblib>=1.2.0 in c:\\users\\lenovo\\anaconda3\\envs\\myenv\\lib\\site-packages (from scikit-learn) (1.4.0)\n",
      "Requirement already satisfied: threadpoolctl>=3.1.0 in c:\\users\\lenovo\\anaconda3\\envs\\myenv\\lib\\site-packages (from scikit-learn) (3.5.0)\n"
     ]
    }
   ],
   "source": [
    "!pip install scikit-learn"
   ]
  },
  {
   "cell_type": "code",
   "execution_count": 31,
   "id": "c23673d6-03b9-44d9-9b4d-537e9627e236",
   "metadata": {},
   "outputs": [],
   "source": [
    "from sklearn.feature_extraction.text import CountVectorizer\n",
    "cv = CountVectorizer(max_features=5500, stop_words='english')"
   ]
  },
  {
   "cell_type": "code",
   "execution_count": 32,
   "id": "57965ed6-b4af-4e59-8183-034e252aac74",
   "metadata": {},
   "outputs": [],
   "source": [
    "vectors = cv.fit_transform(data['tag']).toarray()"
   ]
  },
  {
   "cell_type": "code",
   "execution_count": 33,
   "id": "92a6b198-4c9a-4b01-a043-4bc126a850fb",
   "metadata": {},
   "outputs": [
    {
     "data": {
      "text/plain": [
       "array(['000', '007', '10', ..., 'zone', 'zoo', 'zooeydeschanel'],\n",
       "      dtype=object)"
      ]
     },
     "execution_count": 33,
     "metadata": {},
     "output_type": "execute_result"
    }
   ],
   "source": [
    "cv.get_feature_names_out()"
   ]
  },
  {
   "cell_type": "markdown",
   "id": "095a1c0b-2196-4c90-91d0-e457cbdfffb7",
   "metadata": {},
   "source": [
    "## Calculating similarity of each movie with other movies"
   ]
  },
  {
   "cell_type": "code",
   "execution_count": 34,
   "id": "a097512f-5d99-4620-9021-50ff81d14c67",
   "metadata": {},
   "outputs": [],
   "source": [
    "from sklearn.metrics.pairwise import cosine_similarity\n",
    "similarity = cosine_similarity(vectors)"
   ]
  },
  {
   "cell_type": "markdown",
   "id": "9d6a84ac-acec-40bd-8f51-c2f61dbb163c",
   "metadata": {},
   "source": [
    "### Defining the Target Function"
   ]
  },
  {
   "cell_type": "code",
   "execution_count": 35,
   "id": "5135cc1c-b25c-4096-8770-aa2749a18201",
   "metadata": {},
   "outputs": [],
   "source": [
    "def recommend(movie):\n",
    "    index = 0\n",
    "    top5_movies = []\n",
    "    movie_index = data[data['title'] == movie].index[0]\n",
    "    distances = sorted(list(enumerate(similarity[movie_index])), reverse=True, key=lambda x: x[1])[0:10]\n",
    "    for i, j in distances:\n",
    "        top5_movies.append(data.iloc[i].title)\n",
    "    return top5_movies"
   ]
  },
  {
   "cell_type": "markdown",
   "id": "0633f716-fcce-42cb-b213-3bfe59625387",
   "metadata": {},
   "source": [
    "## Hindi Movies Dataset and Model Building"
   ]
  },
  {
   "cell_type": "code",
   "execution_count": null,
   "id": "8d2926c1-f358-4813-a31c-929ec6cfe91f",
   "metadata": {},
   "outputs": [],
   "source": []
  },
  {
   "cell_type": "code",
   "execution_count": null,
   "id": "98cda344-1f4c-48b7-9666-5f4af87e5bcc",
   "metadata": {},
   "outputs": [],
   "source": []
  },
  {
   "cell_type": "markdown",
   "id": "845d7392-7ac8-4266-a215-8e88278614a5",
   "metadata": {},
   "source": [
    "## Generating Pickle files"
   ]
  },
  {
   "cell_type": "code",
   "execution_count": 36,
   "id": "942d580d-84c7-49b0-99db-941ca76eaef9",
   "metadata": {},
   "outputs": [],
   "source": [
    "import pickle"
   ]
  },
  {
   "cell_type": "code",
   "execution_count": 37,
   "id": "ed19afe9-71d3-47e6-a282-00874c18fd34",
   "metadata": {},
   "outputs": [],
   "source": [
    "pickle.dump(data, open('movies.pkl', 'wb'))                     # For English Movies\n",
    "pickle.dump(similarity, open('similarity.pkl', 'wb'))"
   ]
  },
  {
   "cell_type": "markdown",
   "id": "03c65d07-a032-4b33-a15a-c0add63f3af0",
   "metadata": {},
   "source": [
    "# RESULT"
   ]
  },
  {
   "cell_type": "code",
   "execution_count": 38,
   "id": "f780b074-7e54-412b-9005-f09fb6888659",
   "metadata": {},
   "outputs": [
    {
     "data": {
      "text/plain": [
       "['Avatar',\n",
       " 'Aliens',\n",
       " 'Aliens vs Predator: Requiem',\n",
       " 'Falcon Rising',\n",
       " 'Independence Day',\n",
       " 'Titan A.E.',\n",
       " 'Battle: Los Angeles',\n",
       " 'Predators',\n",
       " 'U.F.O.',\n",
       " 'Small Soldiers']"
      ]
     },
     "execution_count": 38,
     "metadata": {},
     "output_type": "execute_result"
    }
   ],
   "source": [
    "recommend('Avatar')"
   ]
  },
  {
   "cell_type": "code",
   "execution_count": 40,
   "id": "ebb55acb-fdb0-4c83-aeb6-698ebe9f5ad8",
   "metadata": {},
   "outputs": [
    {
     "data": {
      "text/plain": [
       "['Predators',\n",
       " 'Aliens vs Predator: Requiem',\n",
       " 'Meet Dave',\n",
       " 'Riddick',\n",
       " 'Star Trek: Insurrection',\n",
       " 'Aliens',\n",
       " 'Avatar',\n",
       " 'Predator',\n",
       " 'Escape from Planet Earth',\n",
       " 'Battleship']"
      ]
     },
     "execution_count": 40,
     "metadata": {},
     "output_type": "execute_result"
    }
   ],
   "source": [
    "recommend('Predators')"
   ]
  },
  {
   "cell_type": "code",
   "execution_count": 41,
   "id": "5309d7cc-e4e4-430a-acd4-e7091ea8896b",
   "metadata": {},
   "outputs": [
    {
     "data": {
      "text/plain": [
       "['Aliens vs Predator: Requiem',\n",
       " 'Independence Daysaster',\n",
       " 'Slither',\n",
       " 'Edge of Tomorrow',\n",
       " 'Aliens in the Attic',\n",
       " 'AVP: Alien vs. Predator',\n",
       " 'Meet Dave',\n",
       " 'Predators',\n",
       " 'The Thing',\n",
       " 'Independence Day']"
      ]
     },
     "execution_count": 41,
     "metadata": {},
     "output_type": "execute_result"
    }
   ],
   "source": [
    "recommend('Aliens vs Predator: Requiem')"
   ]
  },
  {
   "cell_type": "code",
   "execution_count": null,
   "id": "b403f524-f6ec-457d-aeed-70055423fc5e",
   "metadata": {},
   "outputs": [],
   "source": []
  }
 ],
 "metadata": {
  "kernelspec": {
   "display_name": "Python 3 (ipykernel)",
   "language": "python",
   "name": "python3"
  },
  "language_info": {
   "codemirror_mode": {
    "name": "ipython",
    "version": 3
   },
   "file_extension": ".py",
   "mimetype": "text/x-python",
   "name": "python",
   "nbconvert_exporter": "python",
   "pygments_lexer": "ipython3",
   "version": "3.10.13"
  }
 },
 "nbformat": 4,
 "nbformat_minor": 5
}
